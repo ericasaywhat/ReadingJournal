{
 "cells": [
  {
   "cell_type": "markdown",
   "metadata": {},
   "source": [
    "# Day 1 Reading Journal\n",
    "\n",
    "Hi everyone.  These are the exercises for the first set of readings from ThinkPython.  While this journal consists of several required exercises, it is meant to encourage active reading more generally.  You should use this journal to take detailed notes, catalog questions, and explore the content from ThinkPython deeply.\n",
    "\n",
    "For more information on using the Jupyter notebook, check out the documentation [here](http://nbviewer.jupyter.org/github/jupyter/notebook/blob/master/docs/source/examples/Notebook/Examples%20and%20Tutorials%20Index.ipynb).  Additionally, in order to write text in this document, you will be making use of markdown cells. A handy cheatsheet for markdown is available [here](https://github.com/adam-p/markdown-here/wiki/Markdown-Cheatsheet)."
   ]
  },
  {
   "cell_type": "markdown",
   "metadata": {},
   "source": [
    "# Chapter 1\n",
    "\n",
    "Low-level language is a simpler programming language and is the only language computers can execute. \n",
    "\n",
    "High-level language is a programming language that doesn't depend on machine architecture.\n",
    "\n",
    "Interpreters is a program that can process high-level language into low-level language and executes it line by line.\n",
    "\n",
    "* The chevron (>>>) indicates that the interpreter is ready. \n",
    "* The interpreter works in interactive mode and script mode.\n",
    "\n",
    "Compilers translates the program before the program runs from the high-level program aka source code to object code (executable).\n",
    "\n",
    "Three types of errors:\n",
    " * Syntax errors- errors in the structure of a program.\n",
    " * Runtime errors- error does not appear until after the program           runs\n",
    " * Semantic errors- error when there are no error messages                  generated,but it did not do the right thing.\n",
    "\n",
    "Natural languages are languages that people speak that evolved naturally.\n",
    "\n",
    "Formal languages are languages designed by people to do a certain thing.\n",
    "* Programming languages are designed to express computations\n",
    "\n",
    "Two types of syntax rules:\n",
    "* Tokens are elements of the language (ie. words, numbers, chemical symbols, etc.)\n",
    "* Structure of a statement is the order the tokens are arranged\n",
    "\n",
    "Parsing: figuring out the semantics by reading\n",
    "\n",
    "There are many differences between formal and natural languages such as: ambiguity, redundancy and literalness. (Natural languages are ambiguous, redundant, and not very literal.)\n",
    "\n"
   ]
  },
  {
   "cell_type": "markdown",
   "metadata": {},
   "source": [
    "### Exercise 3\n",
    "\n",
    "Type `help()` to start the online help utility. Or you can type help('print') to get information about the print statement.  You should type `q` and then hit `enter` in the text box to exit the help utility. \n",
    "\n",
    "Note: this exercise is pretty simple (and there's not much to put in the box)!  We just want to make sure that you have tried out this super-handy feature of Python!"
   ]
  },
  {
   "cell_type": "code",
   "execution_count": 1,
   "metadata": {
    "collapsed": false
   },
   "outputs": [
    {
     "name": "stdout",
     "output_type": "stream",
     "text": [
      "\n",
      "Welcome to Python 2.7!  This is the online help utility.\n",
      "\n",
      "If this is your first time using Python, you should definitely check out\n",
      "the tutorial on the Internet at http://docs.python.org/2.7/tutorial/.\n",
      "\n",
      "Enter the name of any module, keyword, or topic to get help on writing\n",
      "Python programs and using Python modules.  To quit this help utility and\n",
      "return to the interpreter, just type \"quit\".\n",
      "\n",
      "To get a list of available modules, keywords, or topics, type \"modules\",\n",
      "\"keywords\", or \"topics\".  Each module also comes with a one-line summary\n",
      "of what it does; to list the modules whose summaries contain a given word\n",
      "such as \"spam\", type \"modules spam\".\n",
      "\n",
      "help> print\n",
      "The ``print`` statement\n",
      "***********************\n",
      "\n",
      "   print_stmt ::= \"print\" ([expression (\",\" expression)* [\",\"]]\n",
      "                  | \">>\" expression [(\",\" expression)+ [\",\"]])\n",
      "\n",
      "``print`` evaluates each expression in turn and writes the resulting\n",
      "object to standard output (see below).  If an object is not a string,\n",
      "it is first converted to a string using the rules for string\n",
      "conversions.  The (resulting or original) string is then written.  A\n",
      "space is written before each object is (converted and) written, unless\n",
      "the output system believes it is positioned at the beginning of a\n",
      "line.  This is the case (1) when no characters have yet been written\n",
      "to standard output, (2) when the last character written to standard\n",
      "output is a whitespace character except ``' '``, or (3) when the last\n",
      "write operation on standard output was not a ``print`` statement. (In\n",
      "some cases it may be functional to write an empty string to standard\n",
      "output for this reason.)\n",
      "\n",
      "Note: Objects which act like file objects but which are not the built-in\n",
      "  file objects often do not properly emulate this aspect of the file\n",
      "  object's behavior, so it is best not to rely on this.\n",
      "\n",
      "A ``'\\n'`` character is written at the end, unless the ``print``\n",
      "statement ends with a comma.  This is the only action if the statement\n",
      "contains just the keyword ``print``.\n",
      "\n",
      "Standard output is defined as the file object named ``stdout`` in the\n",
      "built-in module ``sys``.  If no such object exists, or if it does not\n",
      "have a ``write()`` method, a ``RuntimeError`` exception is raised.\n",
      "\n",
      "``print`` also has an extended form, defined by the second portion of\n",
      "the syntax described above. This form is sometimes referred to as\n",
      "\"``print`` chevron.\" In this form, the first expression after the\n",
      "``>>`` must evaluate to a \"file-like\" object, specifically an object\n",
      "that has a ``write()`` method as described above.  With this extended\n",
      "form, the subsequent expressions are printed to this file object.  If\n",
      "the first expression evaluates to ``None``, then ``sys.stdout`` is\n",
      "used as the file for output.\n",
      "\n",
      "help> q\n",
      "\n",
      "You are now leaving help and returning to the Python interpreter.\n",
      "If you want to ask for help on a particular object directly from the\n",
      "interpreter, you can type \"help(object)\".  Executing \"help('string')\"\n",
      "has the same effect as typing a particular string at the help> prompt.\n"
     ]
    }
   ],
   "source": [
    "help()"
   ]
  },
  {
   "cell_type": "markdown",
   "metadata": {},
   "source": [
    "### Exercise 4  \n",
    "\n",
    "Start the Python interpreter and use it as a calculator. Python’s syntax for math operations is almost the same as standard mathematical notation. For example, the symbols +, - and / denote addition, subtraction and division, as you would expect. The symbol for multiplication is *.\n",
    "\n",
    "If you run a 10 kilometer race in 43 minutes 30 seconds, what is your average time per mile? What is your average speed in miles per hour? (Hint: there are 1.61 kilometers in a mile). "
   ]
  },
  {
   "cell_type": "code",
   "execution_count": 12,
   "metadata": {
    "collapsed": false
   },
   "outputs": [
    {
     "name": "stdout",
     "output_type": "stream",
     "text": [
      "Average Speed: 8.56714499893 miles per hour\n",
      "Average Time per Mile: 0.116725 hours per mile\n"
     ]
    }
   ],
   "source": [
    "distance = 10/1.61 #miles\n",
    "\n",
    "time = (30.0/3600)+(43.0/60) #hours\n",
    "\n",
    "average_speed = distance/time\n",
    "\n",
    "average_time_per_mile = time/distance\n",
    "\n",
    "print \"Average Speed: \" + str(average_speed) + \" miles per hour\"\n",
    "print \"Average Time per Mile: \" + str(average_time_per_mile) + \" hours per mile\""
   ]
  },
  {
   "cell_type": "markdown",
   "metadata": {},
   "source": [
    "## Chapter 2\n",
    "\n",
    "\n",
    "Types of values- integers (1, 2, 3, etc), strings (\"I am a string\"), floating-point (1.3, 3.2, etc)\n",
    "\n",
    "Assignment statements makes variables and assigns a values to then.\n",
    "\n",
    "State diagram is a figure that states the variables value.\n",
    "\n",
    "Do not name variables with the same name as Python's keywords because Python may get confused.\n",
    "\n",
    "Operators are symbols like addition, subtraction, etc. Operators are the numbers that operators operate on.\n",
    "\n",
    "If the operators are floating-point number, then Python performs floating-point division.\n",
    "\n",
    "An expression is any combination of values, variable, and operators, and a statement is a piece of code that a Python interpreter can carry out.\n",
    "\n",
    "Scripts usually have more than one line of code, and the outputs appear as each line of code is run.\n",
    "\n",
    "Remember PEMDAS\n",
    "\n",
    "When + is used with strings in links them. This is called concatenation.\n",
    "\n",
    "\"#\" marks a comment. Comments have no effect on the program\n",
    "\n"
   ]
  },
  {
   "cell_type": "markdown",
   "metadata": {},
   "source": [
    "### Exercise 2  \n",
    "\n",
    "Assume that we execute the following assignment statements:\n",
    "\n",
    "width = 17\n",
    "height = 12.0\n",
    "delimiter = '.'\n",
    "\n",
    "For each of the following expressions, write the value of the expression and the type (of the value of the expression).\n",
    "\n",
    "1. `width/2`\n",
    "2. `width/2.0`\n",
    "3. `height/3`\n",
    "4. `1 + 2 * 5`\n",
    "5. `delimiter * 5`\n",
    "\n",
    "Please use the following markdown cell to provide your answer."
   ]
  },
  {
   "cell_type": "markdown",
   "metadata": {},
   "source": [
    "1) 8\n",
    "2) 8.5\n",
    "3) 9.0\n",
    "4) 11\n",
    "5) ....."
   ]
  },
  {
   "cell_type": "markdown",
   "metadata": {},
   "source": [
    "### Exercise 3  \n",
    "\n",
    "Practice using the Python interpreter as a calculator.  For each of these provide Python code that computes each answer.\n",
    "\n",
    "    \n"
   ]
  },
  {
   "cell_type": "markdown",
   "metadata": {},
   "source": [
    "The volume of a sphere with radius r is 4/3 $\\pi r^3$. What is the volume of a sphere with radius 5? Hint: 392.7 is wrong!"
   ]
  },
  {
   "cell_type": "code",
   "execution_count": 15,
   "metadata": {
    "collapsed": false,
    "scrolled": true
   },
   "outputs": [
    {
     "name": "stdout",
     "output_type": "stream",
     "text": [
      "523.598775598\n"
     ]
    }
   ],
   "source": [
    "from math import *\n",
    "\n",
    "radius = 5 \n",
    "volume = (4*pi*radius**3)/3\n",
    "print volume"
   ]
  },
  {
   "cell_type": "markdown",
   "metadata": {},
   "source": [
    "Suppose the cover price of a book is \\$24.95, but bookstores get a 40% discount. Shipping costs \\$3 for the first copy and 75 cents for each additional copy. What is the total wholesale cost for 60 copies?"
   ]
  },
  {
   "cell_type": "code",
   "execution_count": 18,
   "metadata": {
    "collapsed": false
   },
   "outputs": [
    {
     "name": "stdout",
     "output_type": "stream",
     "text": [
      "945.45\n"
     ]
    }
   ],
   "source": [
    "cover_price = 24.95 #per book\n",
    "cover_price_with_discount = cover_price *0.6 \n",
    "\n",
    "total_wholesale_cost = cover_price_with_discount * 60 + (3 + 0.75 * 59)\n",
    "\n",
    "print total_wholesale_cost"
   ]
  },
  {
   "cell_type": "markdown",
   "metadata": {},
   "source": [
    "If I leave my house at 6:52 am and run 1 mile at an easy pace (8:15 per mile), then 3 miles at tempo (7:12 per mile) and 1 mile at easy pace again, what time do I get home for breakfast? "
   ]
  },
  {
   "cell_type": "code",
   "execution_count": 23,
   "metadata": {
    "collapsed": false
   },
   "outputs": [
    {
     "name": "stdout",
     "output_type": "stream",
     "text": [
      "7:21am\n"
     ]
    }
   ],
   "source": [
    "initial_time = 6*60+52 #time in minutes\n",
    "travel_time = (8+15.0/60) + 3*(7+12.0/60) #in minutes\n",
    "m = int(initial_time + travel_time) #final time in minutes\n",
    "h, m = divmod(m, 60)\n",
    "print str(h) + \":\" + str(m) + \"am\""
   ]
  },
  {
   "cell_type": "markdown",
   "metadata": {},
   "source": [
    "## Chapter 3\n",
    "\n",
    "functions are sequences of code that you name and executes computations you specify\n",
    "* functions take arguments\n",
    "\n",
    "Python has built-in functions that can change the type of a value\n",
    "\n",
    "module: file with a collection of related functions\n",
    "\n",
    "                  [   import math   ]\n",
    "                  [  math.sin(blah) ]\n",
    "              \n",
    "                  [from math import *]\n",
    "                  [     sin(blah)    ]\n",
    "                  \n",
    "Header is the first line of the function definition; it ends with a colon\n",
    "\n",
    "Body is the rest of the function definition\n",
    "\n",
    "This ' and \" do the same thing\n",
    "\n",
    "To end a function in interpreter mode, enter an empty line (not in script)\n",
    "              \n",
    "Flow of execution is the order in which the program is executed\n",
    "* function calls are a detour in the flow\n",
    "\n",
    "In a function, parameters are the arguments that are assigned to variables\n",
    "\n",
    "Stack diagrams can be drawn in order to keep track of what variables can be used where\n",
    "\n",
    "\n",
    "\n"
   ]
  },
  {
   "cell_type": "markdown",
   "metadata": {},
   "source": [
    "### Exercise 3\n",
    "\n",
    "Python provides a built-in function called len that returns the length of a string, so the value of len('allen') is 5.\n",
    "Write a function named right_justify that takes a string named s as a parameter and prints the string with enough leading spaces so that the last letter of the string is in column 70 of the display.\n",
    "\n",
    "```\n",
    ">>> right_justify('allen')\n",
    "                                                                 allen```"
   ]
  },
  {
   "cell_type": "code",
   "execution_count": 29,
   "metadata": {
    "collapsed": false,
    "scrolled": true
   },
   "outputs": [
    {
     "name": "stdout",
     "output_type": "stream",
     "text": [
      "                                                                  whee\n"
     ]
    }
   ],
   "source": [
    "def right_justify(s):\n",
    "    print \" \" * (70-len(s)) + s\n",
    "    \n",
    "right_justify(\"whee\")"
   ]
  },
  {
   "cell_type": "markdown",
   "metadata": {},
   "source": [
    "### Exercise 5\n",
    "\n",
    "This exercise can be done using only the statements and other features we have learned so far.\n",
    "\n",
    "(a) Write a function that draws a grid like the following:\n",
    "```\n",
    "+ - - - - + - - - - +\n",
    "|         |         |\n",
    "|         |         |\n",
    "|         |         |\n",
    "|         |         |\n",
    "+ - - - - + - - - - +\n",
    "|         |         |\n",
    "|         |         |\n",
    "|         |         |\n",
    "|         |         |\n",
    "+ - - - - + - - - - +\n",
    "```\n",
    "**Hint:** to print more than one value on a line, you can print a comma-separated sequence:\n",
    "print '+', '-'\n",
    "If the sequence ends with a comma, Python leaves the line unfinished, so the value printed next appears on the same line.\n",
    "print '+', \n",
    "print '-'\n",
    "The output of these statements is '+ -'.\n",
    "A print statement all by itself ends the current line and goes to the next line."
   ]
  },
  {
   "cell_type": "code",
   "execution_count": 63,
   "metadata": {
    "collapsed": false
   },
   "outputs": [
    {
     "name": "stdout",
     "output_type": "stream",
     "text": [
      "+ - - - - + - - - - +\n",
      "|         |         |\n",
      "|         |         |\n",
      "|         |         |\n",
      "|         |         |\n",
      "+ - - - - + - - - - +\n",
      "|         |         |\n",
      "|         |         |\n",
      "|         |         |\n",
      "|         |         |\n",
      "+ - - - - + - - - - +\n"
     ]
    }
   ],
   "source": [
    "def draw_horiz():\n",
    "    print \"+ - - - - \"*2 + \"+\"\n",
    "def draw_vert():\n",
    "    n = 0\n",
    "    while n < 4:\n",
    "        print \"|         \"*2 + \"|\"\n",
    "        n+=1\n",
    "def draw_grid():\n",
    "    x = 0\n",
    "    while x < 2:\n",
    "        draw_horiz()\n",
    "        x +=1\n",
    "        draw_vert()\n",
    "    draw_horiz()\n",
    "    \n",
    "    \n",
    "   \n",
    "    \n",
    "draw_grid()"
   ]
  },
  {
   "cell_type": "markdown",
   "metadata": {},
   "source": [
    "(b) Write a function that draws a similar grid with four rows and four columns."
   ]
  },
  {
   "cell_type": "code",
   "execution_count": 1,
   "metadata": {
    "collapsed": false
   },
   "outputs": [
    {
     "name": "stdout",
     "output_type": "stream",
     "text": [
      "+ - - - - + - - - - + - - - - + - - - - +\n",
      "|         |         |         |         |\n",
      "|         |         |         |         |\n",
      "|         |         |         |         |\n",
      "|         |         |         |         |\n",
      "+ - - - - + - - - - + - - - - + - - - - +\n",
      "|         |         |         |         |\n",
      "|         |         |         |         |\n",
      "|         |         |         |         |\n",
      "|         |         |         |         |\n",
      "+ - - - - + - - - - + - - - - + - - - - +\n",
      "|         |         |         |         |\n",
      "|         |         |         |         |\n",
      "|         |         |         |         |\n",
      "|         |         |         |         |\n",
      "+ - - - - + - - - - + - - - - + - - - - +\n",
      "|         |         |         |         |\n",
      "|         |         |         |         |\n",
      "|         |         |         |         |\n",
      "|         |         |         |         |\n",
      "+ - - - - + - - - - + - - - - + - - - - +\n"
     ]
    }
   ],
   "source": [
    "def draw_horiz(r,c):\n",
    "    print \"+ - - - - \"*c + \"+\"\n",
    "def draw_vert(r,c):\n",
    "    n = 0\n",
    "    while n < 4:\n",
    "        print \"|         \"*c + \"|\"\n",
    "        n+=1\n",
    "def draw_grid(r,c):\n",
    "    x = 0\n",
    "    while x < r:\n",
    "        draw_horiz(r,c)\n",
    "        x +=1\n",
    "        draw_vert(r,c)\n",
    "    draw_horiz(r,c)\n",
    "    \n",
    "    \n",
    "   \n",
    "    \n",
    "draw_grid(4,4)"
   ]
  },
  {
   "cell_type": "markdown",
   "metadata": {},
   "source": [
    "## Chapter 5.1 - 5.7\n",
    "\n",
    "modulus operator returns the remainder of the first operand divided by the second\n",
    "* in Python: %\n",
    "\n",
    "boolean expression is an expression that is either true or false\n",
    "True and False are values with the type \"bool\" THEY ARE NOT STRINGS\n",
    "\n",
    "Three logical operators: and, or, not\n",
    "\n",
    "Conditional statements allows us to check the conditions before having the program behave differently\n",
    "\n",
    "Alternatice execution allows for two different behaviors depending on on the condition\n",
    "\n",
    "A chained conditional has more than two different behaviors along with more conditions\n",
    "\n",
    "A conditional can be nested in another(another \"if\" in an \"else\")\n"
   ]
  },
  {
   "cell_type": "markdown",
   "metadata": {},
   "source": [
    "### Exercise 3  \n",
    "\n",
    "Fermat’s Last Theorem says that there are no positive integers a, b, and c such that $a^n + b^n = c^n$ for any values of n greater than 2.\n",
    "\n",
    "(a) Write a function named `check_fermat` that takes four parameters—a, b, c and n—and that checks to see if Fermat’s theorem holds. If n is greater than 2 and it turns out to be true that\n",
    "$a^n + b^n = c^n$ the program should print, \"Holy smokes, Fermat was wrong!\" Otherwise the program should print, \"No, that doesn’t work.\""
   ]
  },
  {
   "cell_type": "code",
   "execution_count": 41,
   "metadata": {
    "collapsed": false
   },
   "outputs": [],
   "source": [
    "def check_fermat(a,b,c,n):\n",
    "    if n>2 and a**n + b**n == c**n:\n",
    "        print \"Holy smokes, Fermat was wrong!\"\n",
    "    else:\n",
    "        print \"No, that doesn't work.\"\n",
    "            "
   ]
  },
  {
   "cell_type": "markdown",
   "metadata": {},
   "source": [
    "(b) Write a function that prompts the user to input values for a, b, c and n, converts them to integers, and uses check_fermat to check whether they violate Fermat’s theorem."
   ]
  },
  {
   "cell_type": "code",
   "execution_count": 42,
   "metadata": {
    "collapsed": false
   },
   "outputs": [
    {
     "name": "stdout",
     "output_type": "stream",
     "text": [
      "Input a:5\n",
      "Input b:6\n",
      "Input c:7\n",
      "Input n:8\n",
      "No, that doesn't work.\n"
     ]
    }
   ],
   "source": [
    "def user_input():\n",
    "    a = int(input(\"Input a:\"))\n",
    "    b = int(input(\"Input b:\"))\n",
    "    c = int(input(\"Input c:\"))\n",
    "    n = int(input(\"Input n:\"))\n",
    "\n",
    "    check_fermat(a,b,c,n)\n",
    "    \n",
    "user_input()"
   ]
  },
  {
   "cell_type": "markdown",
   "metadata": {},
   "source": [
    "### Exercise 4  \n",
    "\n",
    "If you are given three sticks, you may or may not be able to arrange them in a triangle. For example, if one of the sticks is 12 inches long and the other two are one inch long, it is clear that you will not be able to get the short sticks to meet in the middle. For any three lengths, there is a simple test to see if it is possible to form a triangle:\n",
    "> If any of the three lengths is greater than the sum of the other two, then you cannot form a triangle. Otherwise, you can. (If the sum of two lengths equals the third, they form what is called a “degenerate” triangle.)\n",
    "\n",
    "(a) Write a function named `is_triangle` that takes three integers as arguments, and that prints either \"Yes\" or \"No,\" depending on whether you can or cannot form a triangle from sticks with the given lengths."
   ]
  },
  {
   "cell_type": "code",
   "execution_count": 46,
   "metadata": {
    "collapsed": false
   },
   "outputs": [],
   "source": [
    "def is_triangle(x,y,z):\n",
    "    if x > y+z:\n",
    "        print\"No\"\n",
    "    elif y > x+z:\n",
    "        print\"No\"\n",
    "    elif z > x+y:\n",
    "        print\"No\"\n",
    "    else:\n",
    "        print\"Yes\"\n",
    "        \n"
   ]
  },
  {
   "cell_type": "markdown",
   "metadata": {},
   "source": [
    "(b) Write a function that prompts the user to input three stick lengths, converts them to integers, and uses is_triangle to check whether sticks with the given lengths can form a triangle."
   ]
  },
  {
   "cell_type": "code",
   "execution_count": 47,
   "metadata": {
    "collapsed": false
   },
   "outputs": [
    {
     "name": "stdout",
     "output_type": "stream",
     "text": [
      "Input Stick 1 length:5\n",
      "Input Stick 2 length:6\n",
      "Input Stick 3 length:7\n",
      "Yes\n"
     ]
    }
   ],
   "source": [
    "def triangle_size():\n",
    "    x = int(input(\"Input Stick 1 length:\"))\n",
    "    y = int(input(\"Input Stick 2 length:\"))\n",
    "    z = int(input(\"Input Stick 3 length:\"))\n",
    "    \n",
    "    is_triangle(x,y,z)\n",
    "    \n",
    "triangle_size()"
   ]
  },
  {
   "cell_type": "markdown",
   "metadata": {},
   "source": [
    "## Notes for the Instructors\n",
    "\n",
    "Please use the space below to write comments to help us plan the next class session.  For instance, if you want to see us go over an example of a particular type of problem, you can indicate that here.\n",
    "\n",
    "Please remember that the best way to get quick feedback from the instructors as well as your peers, is to use Piazza.  However, consider using this channel if it doesn't make sense to post your note to Piazza."
   ]
  },
  {
   "cell_type": "markdown",
   "metadata": {},
   "source": []
  }
 ],
 "metadata": {
  "kernelspec": {
   "display_name": "Python 2",
   "language": "python",
   "name": "python2"
  },
  "language_info": {
   "codemirror_mode": {
    "name": "ipython",
    "version": 2
   },
   "file_extension": ".py",
   "mimetype": "text/x-python",
   "name": "python",
   "nbconvert_exporter": "python",
   "pygments_lexer": "ipython2",
   "version": "2.7.6"
  }
 },
 "nbformat": 4,
 "nbformat_minor": 0
}
