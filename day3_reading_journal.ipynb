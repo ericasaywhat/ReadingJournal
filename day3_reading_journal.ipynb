{
 "cells": [
  {
   "cell_type": "markdown",
   "metadata": {},
   "source": [
    "# Day 3 Reading Journal\n",
    "\n",
    "This journal includes several required exercises, but it is meant to encourage active reading more generally.  You should use the journal to take detailed notes, catalog questions, and explore the content from Think Python deeply.\n",
    "\n",
    "Reading: Think Python Chapter 8, 10.1-10.6\n",
    "\n",
    "**Due: Monday, February 1 at 12 noon**\n",
    "\n"
   ]
  },
  {
   "cell_type": "markdown",
   "metadata": {},
   "source": [
    "## [Chapter 8](http://www.greenteapress.com/thinkpython/html/thinkpython009.html)\n",
    "\n",
    "Note: the exercise numbers below match up with the reading for ease of cross referencing.\n",
    "\n",
    "\n",
    "You can access characters of a string one character at a time with a bracket operator\n",
    "> fruit = \"banana\"\n",
    "\n",
    "> letter = fruit[1]\n",
    "\n",
    "> print letter \n",
    "\n",
    "> a\n",
    "\n",
    "len() returns the number of characters in a string\n",
    "\n",
    "We can iterate through items in a sequence and perform an operation on each of them with for loops. (This is called a traversal)\n",
    "\n",
    "A segment of a string is called a slice.\n",
    "\n",
    ">fruit.lower() => banana\n",
    "\n",
    ">fruit.upper() => BANANA\n",
    "\n",
    ">\"a\" in \"banana\" returns True\n",
    "\n",
    "\n",
    "\n",
    "\n",
    "\n",
    "\n",
    "\n",
    "\n"
   ]
  },
  {
   "cell_type": "markdown",
   "metadata": {},
   "source": [
    "### Exercise 1  \n",
    "\n",
    "Write a function that takes a string as an argument and displays the letters backward, one per line."
   ]
  },
  {
   "cell_type": "code",
   "execution_count": 5,
   "metadata": {
    "collapsed": false
   },
   "outputs": [
    {
     "name": "stdout",
     "output_type": "stream",
     "text": [
      "!\n",
      "d\n",
      "l\n",
      "r\n",
      "o\n",
      "W\n",
      " \n",
      "o\n",
      "l\n",
      "l\n",
      "e\n",
      "H\n"
     ]
    }
   ],
   "source": [
    "def backwards(string):\n",
    "    i = len(string)-1\n",
    "    while i >=0:\n",
    "        print string[i]\n",
    "        i-=1\n",
    "\n",
    "backwards(\"Hello World!\")\n"
   ]
  },
  {
   "cell_type": "markdown",
   "metadata": {},
   "source": [
    "**Challenge (optional):** Write a function that translates words into [Pig Latin](https://en.wikipedia.org/wiki/Pig_Latin). \n",
    "\n",
    "**Additional challenge**: Write a function that translates back into English."
   ]
  },
  {
   "cell_type": "code",
   "execution_count": 8,
   "metadata": {
    "collapsed": false
   },
   "outputs": [
    {
     "name": "stdout",
     "output_type": "stream",
     "text": [
      "'ellohay orldway'\n",
      "'ellohay orldway'\n",
      "I don't understand\n"
     ]
    }
   ],
   "source": [
    "def pig_latin(word):\n",
    "    \"\"\"\n",
    "    Return given 'word' translated into Pig Latin\n",
    "    \n",
    "    >>> pig_latin(\"software\")\n",
    "    'oftwaresay'\n",
    "    \"\"\"\n",
    "    pyg = \"ay\"\n",
    "    if \" \" in word and len(word) > 0:\n",
    "        index = word.find(' ')\n",
    "        first = word[0]\n",
    "        second = word[index + 1]\n",
    "        new_thing = word[1:index] + first + pyg + \" \" + word[index+2:len(word)] + second + pyg\n",
    "        print \"'\" + new_thing.lower() + \"'\"\n",
    "\n",
    "    elif len(word) > 0:\n",
    "        first = word[0]\n",
    "        new_thing = word[1:len(word)] + first + pyg \n",
    "        print \"'\" + new_thing.lower() + \"'\"\n",
    "    else:\n",
    "        print \"I don't understand\"\n",
    "    \n",
    "pig_latin(\"HELLO WORLD\")\n",
    "pig_latin(\"hello world\")\n",
    "pig_latin(\"\")\n",
    "pass #TODO: Implement me\n",
    "\n",
    "# If you'd like to actually run the doctests here, you can uncomment the lines below.\n",
    "# We use this slightly more complex method to test only the pig_latin function, without running tests on any other functions that may be in this notebook.\n",
    "import doctest\n",
    "doctest.run_docstring_examples(pig_latin, globals())"
   ]
  },
  {
   "cell_type": "code",
   "execution_count": 42,
   "metadata": {
    "collapsed": false
   },
   "outputs": [
    {
     "name": "stdout",
     "output_type": "stream",
     "text": [
      "'hello'\n",
      "'hello world'\n",
      "'reading journal'\n"
     ]
    }
   ],
   "source": [
    "def english(word):\n",
    "    \n",
    "    if \" \" in word and len(word) > 0:\n",
    "        word = word.lower()\n",
    "        index = word.find(' ')\n",
    "        pyg1 = word.find(\"ay\")\n",
    "        pyg2 = word.find(\"ay\",len(word)-2)\n",
    "        first = word[pyg1-1]\n",
    "        second = word[pyg2-1]\n",
    "        \n",
    "        new_thing = first + word[0: index-3] + \" \" + second + word[index+1:pyg2-1]\n",
    "        print \"'\" + new_thing.lower() + \"'\"\n",
    "        \n",
    "    elif len(word) > 0:\n",
    "        pyg = word.find(\"ay\")\n",
    "        first = word[pyg-1]\n",
    "        new_thing = first + word[0: pyg-1] \n",
    "        print \"'\" + new_thing.lower() + \"'\"\n",
    "    \n",
    "    else:\n",
    "        print \"I don't understand\"\n",
    "    \n",
    "    \n",
    "english(\"ellohay\")\n",
    "english(\"ELLOHAY ORLDWAY\")\n",
    "english(\"EADINGRAY OURNALJAY\")"
   ]
  },
  {
   "cell_type": "markdown",
   "metadata": {},
   "source": [
    "### Exercise 5\n",
    "Encapsulate the character counting code in a fruitful function named `count` that accepts the string and the letter as arguments and returns the count."
   ]
  },
  {
   "cell_type": "code",
   "execution_count": 2,
   "metadata": {
    "collapsed": false
   },
   "outputs": [
    {
     "name": "stdout",
     "output_type": "stream",
     "text": [
      "9\n"
     ]
    }
   ],
   "source": [
    "def count(word):\n",
    "    count = 0\n",
    "    for letter in word:\n",
    "        count +=1\n",
    "        \n",
    "    return count\n",
    "\n",
    "print count(\"hellooooo\")"
   ]
  },
  {
   "cell_type": "markdown",
   "metadata": {},
   "source": [
    "### Exercise 8\n",
    "Skim the documentation of the Python [string methods](http://docs.python.org/2/library/stdtypes.html#string-methods). Experiment with some of them to make sure you understand how they work. strip, replace, and upper/lower are particularly useful."
   ]
  },
  {
   "cell_type": "code",
   "execution_count": 28,
   "metadata": {
    "collapsed": false
   },
   "outputs": [
    {
     "name": "stdout",
     "output_type": "stream",
     "text": [
      "Helloooo worldddd\n",
      "-------------------Hello World--------------------\n",
      "google.com\n"
     ]
    }
   ],
   "source": [
    "print str.capitalize(\"helloooo worldddd\")\n",
    "print str. center(\"Hello World\",50,\"-\")\n",
    "\n",
    "print \"www.google.com\".lstrip(\"cmowz.\")"
   ]
  },
  {
   "cell_type": "markdown",
   "metadata": {},
   "source": [
    "### Exercise 11  \n",
    "\n",
    "The following functions are all intended to check whether a string contains any lowercase letters, but at least some of them are wrong. For each function, describe what the function actually does (assuming that the parameter is a string)."
   ]
  },
  {
   "cell_type": "code",
   "execution_count": 5,
   "metadata": {
    "collapsed": false
   },
   "outputs": [],
   "source": [
    "def any_lowercase1(s):\n",
    "    for c in s:\n",
    "        if c.islower():\n",
    "            return True\n",
    "        else:\n",
    "            return False"
   ]
  },
  {
   "cell_type": "markdown",
   "metadata": {},
   "source": [
    "The function tests the letters of the string input and returns the boolean False if the letter is an upper case letter. It returns the boolean True if the letter is a lower case letter."
   ]
  },
  {
   "cell_type": "markdown",
   "metadata": {},
   "source": [
    " "
   ]
  },
  {
   "cell_type": "code",
   "execution_count": null,
   "metadata": {
    "collapsed": true
   },
   "outputs": [],
   "source": [
    "def any_lowercase2(s):\n",
    "    for c in s:\n",
    "        if 'c'.islower():\n",
    "            return 'True'\n",
    "        else:\n",
    "            return 'False'"
   ]
  },
  {
   "cell_type": "markdown",
   "metadata": {},
   "source": [
    "The function tests the first letter in the string input as a string and returns the string \"False\" if it is an upper case letter. It returns the string \"False\" if it is a lower case letter."
   ]
  },
  {
   "cell_type": "markdown",
   "metadata": {},
   "source": [
    " "
   ]
  },
  {
   "cell_type": "code",
   "execution_count": null,
   "metadata": {
    "collapsed": true
   },
   "outputs": [],
   "source": [
    "def any_lowercase3(s):\n",
    "    for c in s:\n",
    "        flag = c.islower()\n",
    "    return flag"
   ]
  },
  {
   "cell_type": "markdown",
   "metadata": {},
   "source": [
    "The function tests every letter in the string input and returns the boolean False if the letter it is testing is a an upper case letter. It returns the boolean True if the letter it is testing is a lower case letter."
   ]
  },
  {
   "cell_type": "markdown",
   "metadata": {},
   "source": [
    " "
   ]
  },
  {
   "cell_type": "code",
   "execution_count": null,
   "metadata": {
    "collapsed": true
   },
   "outputs": [],
   "source": [
    "def any_lowercase4(s):\n",
    "    flag = False\n",
    "    for c in s:\n",
    "        flag = flag or c.islower()\n",
    "    return flag"
   ]
  },
  {
   "cell_type": "markdown",
   "metadata": {},
   "source": [
    "The function tests every letter in the string input. \n",
    "\n",
    "Because flag is initially False, flag will be updated to true when c.islower() is also False because of the logical operator **or**\n",
    "This means that this function doesn't test for lower cases in the string input the way we expect it to."
   ]
  },
  {
   "cell_type": "markdown",
   "metadata": {},
   "source": [
    " "
   ]
  },
  {
   "cell_type": "code",
   "execution_count": null,
   "metadata": {
    "collapsed": true
   },
   "outputs": [],
   "source": [
    "def any_lowercase5(s):\n",
    "    for c in s:\n",
    "        if not c.islower():\n",
    "            return False\n",
    "    return True"
   ]
  },
  {
   "cell_type": "markdown",
   "metadata": {},
   "source": [
    "This function tests every letter in the string input.\n",
    "\n",
    "It keeps testing letters until it comes across an upper case letter and then it returns the boolean False."
   ]
  },
  {
   "cell_type": "markdown",
   "metadata": {},
   "source": [
    " "
   ]
  },
  {
   "cell_type": "markdown",
   "metadata": {},
   "source": [
    "## [Chapter 10.1 - 10.6](http://www.greenteapress.com/thinkpython/html/thinkpython011.html)\n",
    "\n",
    "You may want to review [state diagrams in Chapter 2](http://www.greenteapress.com/thinkpython/html/thinkpython003.html#toc13).\n",
    "\n",
    "\n",
    "values in a list are called elements or items\n",
    "\n",
    "a list inside another list is called nested\n",
    "\n",
    "the + operator concatenates lists\n",
    "the * operator repeats a list \n",
    "\n",
    "you can slice lists just as you can slice strings (i.e. list_name[1:3])\n",
    "\n",
    "you can append to a list (list_name.append('thing you want to append') \n",
    "it adds it to the end of the list\n",
    "\n",
    "x = list_name.pop(1) takes the second element out of the list and assigns it to x\n",
    "del t[1] deletes the second element of the list\n",
    "you can also del t[1:3] to delete a slice of a list\n",
    "\n",
    "you can convert from list to string and vice versa using \n",
    "* variable_name = list_name.split() \n",
    ">splits a string into a list with each word as an element\n",
    "\n",
    "* variable_name = list_name.split(variable_want_to_split_by)\n",
    ">for a string \"blah-blah-blah\" and variable_want_to_split_by = \"-\" for a list [\"blah\",\"blah\",\"blah\"]\n",
    "\n",
    "\n",
    "\n",
    "a = \"banana'; b = \"banana\"; a is b TRUE\n",
    "\n",
    "a = [1, 2, 3] ; b = [1, 2, 3]; a is b FALSE ( equivalent but not identical)\n",
    "\n"
   ]
  },
  {
   "cell_type": "markdown",
   "metadata": {},
   "source": [
    "**Quick check:** What type of items can be placed in a list?"
   ]
  },
  {
   "cell_type": "markdown",
   "metadata": {},
   "source": [
    "Integers, floats, strings, lists"
   ]
  },
  {
   "cell_type": "markdown",
   "metadata": {},
   "source": [
    " "
   ]
  },
  {
   "cell_type": "markdown",
   "metadata": {},
   "source": [
    "**Quick check:** Give at least one similarity and one difference between lists and strings."
   ]
  },
  {
   "cell_type": "markdown",
   "metadata": {},
   "source": [
    "Lists and strings both have indices.\n",
    "Lists can hold different types of items (strings, lists, integers, and floats), but strings can only hold characters."
   ]
  },
  {
   "cell_type": "markdown",
   "metadata": {},
   "source": [
    " "
   ]
  },
  {
   "cell_type": "markdown",
   "metadata": {},
   "source": [
    "### Exercise\n",
    "\n",
    "Write a function `average` that takes a list of numbers and returns their arithmetic mean."
   ]
  },
  {
   "cell_type": "code",
   "execution_count": 13,
   "metadata": {
    "collapsed": false
   },
   "outputs": [
    {
     "name": "stdout",
     "output_type": "stream",
     "text": [
      "5\n",
      "3.311111\n"
     ]
    }
   ],
   "source": [
    "def average(list):\n",
    "    sum = 0\n",
    "    for i in list:\n",
    "        if type(i) == int or type(i) == float:\n",
    "            sum = sum  + i\n",
    "            average = sum/len(list)\n",
    "    print average\n",
    "        \n",
    "average([1,2,3,4,5,6,7,8,9])\n",
    "average([1.1,2.2,3.3,4.4,5.555555])"
   ]
  },
  {
   "cell_type": "markdown",
   "metadata": {},
   "source": [
    "### Exercise\n",
    "You own a restaurant, and you need to keep up with the latest food fads or risk losing your fickle customers. You decide to write a Python function that adds the hot new ingredient _du jour_ to each of your regular menu items and returns the trendy new menu."
   ]
  },
  {
   "cell_type": "code",
   "execution_count": 38,
   "metadata": {
    "collapsed": false
   },
   "outputs": [],
   "source": [
    "def add_ingredient(menu, ingredient):\n",
    "    \"\"\"\n",
    "    Given a list of string 'menu' items and a trendy 'ingredient' string of the day,\n",
    "    return a new menu list of strings with the ingredient added to each.\n",
    "    \n",
    "    >>> add_ingredient([\"burger\", \"salad\", \"ice cream\"], \"kale\")\n",
    "    ['burger with kale', 'salad with kale', 'ice cream with kale']\n",
    "    \n",
    "    \"\"\"\n",
    "    new_menu = []\n",
    "    \n",
    "    for i in menu:\n",
    "        new_menu.append(i + \" with \" + ingredient)\n",
    "    \n",
    "    print new_menu\n",
    "    pass# TODO: Implement me\n",
    "\n",
    "# Running doctests in jupyter notebook:\n",
    "# If you'd like to actually run the doctests here, you can uncomment the lines below.\n",
    "# We use this slightly more complex method to test only the add_ingredient function,\n",
    "# without running tests on any other functions that may be in this notebook.\n",
    "\n",
    "import doctest\n",
    "doctest.run_docstring_examples(add_ingredient, globals())"
   ]
  },
  {
   "cell_type": "markdown",
   "metadata": {},
   "source": [
    "## Reading Journal feedback\n",
    "\n",
    "Have any comments on this Reading Journal? Feel free to leave them below and we'll read them when you submit your journal entry. This could include suggestions to improve the exercises, topics you'd like to see covered in class next time, or other feedback.\n",
    "\n",
    "If you have Python questions or run into problems while completing the reading, you should post them to Piazza instead so you can get a quick response before your journal is submitted."
   ]
  },
  {
   "cell_type": "markdown",
   "metadata": {},
   "source": [
    " "
   ]
  }
 ],
 "metadata": {
  "kernelspec": {
   "display_name": "Python 2",
   "language": "python",
   "name": "python2"
  },
  "language_info": {
   "codemirror_mode": {
    "name": "ipython",
    "version": 2
   },
   "file_extension": ".py",
   "mimetype": "text/x-python",
   "name": "python",
   "nbconvert_exporter": "python",
   "pygments_lexer": "ipython2",
   "version": "2.7.6"
  }
 },
 "nbformat": 4,
 "nbformat_minor": 0
}
