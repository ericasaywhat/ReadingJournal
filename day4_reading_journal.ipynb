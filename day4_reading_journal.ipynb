{
 "cells": [
  {
   "cell_type": "markdown",
   "metadata": {},
   "source": [
    "# Day 4 Reading Journal\n",
    "\n",
    "This journal includes several required exercises, but it is meant to encourage active reading more generally.  You should use the journal to take detailed notes, catalog questions, and explore the content from Think Python deeply.\n",
    "\n",
    "Reading: Think Python Chapter 10\n",
    "\n",
    "**Due: Thursday, February 4 at 12 noon**\n",
    "\n"
   ]
  },
  {
   "cell_type": "markdown",
   "metadata": {},
   "source": [
    "## [Chapter 10](http://www.greenteapress.com/thinkpython/html/thinkpython011.html)\n",
    "\n",
    "You may want to review [state diagrams in Chapter 2](http://www.greenteapress.com/thinkpython/html/thinkpython003.html#toc13). [Python Tutor](http://pythontutor.com/) is also helpful for visualizing the state of your program.\n",
    "\n",
    "x = list_name.pop(1) takes the second element out of the list and assigns it to x\n",
    "del t[1] deletes the second element of the list\n",
    "you can also del t[1:3] to delete a slice of a list\n",
    "\n",
    "you can convert from list to string and vice versa using \n",
    "* variable_name = list_name.split() \n",
    ">splits a string into a list with each word as an element\n",
    "\n",
    "* variable_name = list_name.split(variable_want_to_split_by)\n",
    ">for a string \"blah-blah-blah\" and variable_want_to_split_by = \"-\" for a list [\"blah\",\"blah\",\"blah\"]\n",
    "\n",
    "\n",
    "\n",
    "a = \"banana'; b = \"banana\"; a is b TRUE\n",
    "\n",
    "a = [1, 2, 3] ; b = [1, 2, 3]; a is b FALSE ( equivalent but not identical)\n",
    "\n"
   ]
  },
  {
   "cell_type": "markdown",
   "metadata": {},
   "source": [
    "### Exercise 4  \n",
    "Write a function called `middle` that takes a list and returns a new list that contains all but the first and last elements. So `middle([1,2,3,4])` should return `[2,3]`."
   ]
  },
  {
   "cell_type": "code",
   "execution_count": 8,
   "metadata": {
    "collapsed": false
   },
   "outputs": [],
   "source": [
    "def middle(list):\n",
    "    \"\"\"\n",
    "    Return new list that contains all but the first and last element\n",
    "    \n",
    "    >>> middle([1,2,3,4])\n",
    "    [2, 3]\n",
    "    \n",
    "    \"\"\"\n",
    "    return list[1:len(list)-1]\n",
    "\n",
    "import doctest\n",
    "doctest.run_docstring_examples(middle, globals())\n",
    "\n"
   ]
  },
  {
   "cell_type": "markdown",
   "metadata": {},
   "source": [
    "### Exercise 5  \n",
    "Write a function called `chop` that takes a list, modifies it by removing the first and last elements, and returns `None`.\n",
    "\n",
    "What is the difference between `middle` and `chop`? Sketch out the program state or take a look at each in Python Tutor."
   ]
  },
  {
   "cell_type": "code",
   "execution_count": 13,
   "metadata": {
    "collapsed": false
   },
   "outputs": [
    {
     "name": "stdout",
     "output_type": "stream",
     "text": [
      "None\n"
     ]
    }
   ],
   "source": [
    "def chop(list):\n",
    "    list = list[1:len(list)-1]\n",
    "    return None\n",
    "\n",
    "print chop([1,2,3,4])\n",
    "    "
   ]
  },
  {
   "cell_type": "markdown",
   "metadata": {},
   "source": [
    "### Exercise 7  \n",
    "Two words are anagrams if you can rearrange the letters from one to spell the other. Write a function called `is_anagram` that takes two strings and returns `True` if they are anagrams."
   ]
  },
  {
   "cell_type": "code",
   "execution_count": 25,
   "metadata": {
    "collapsed": false
   },
   "outputs": [],
   "source": [
    "def is_anagram(string1, string2):\n",
    "    \"\"\"\n",
    "    Takes two strings and returns True is they are anagrams\n",
    "    \n",
    "    >>> is_anagram(\"lemon\",\"melon\")\n",
    "    True\n",
    "    \n",
    "    >>> is_anagram(\"cat\", \"catastrophe\")\n",
    "    False\n",
    "    \n",
    "    \"\"\"\n",
    "\n",
    "    if len(string1) == len(string2):\n",
    "        for letter in list(string1):\n",
    "            if letter in list(string2):\n",
    "                return True\n",
    "            else:\n",
    "                return False\n",
    "    else:\n",
    "        return False\n",
    "            \n",
    "    \n",
    "import doctest\n",
    "doctest.run_docstring_examples(is_anagram, globals())\n",
    "\n"
   ]
  },
  {
   "cell_type": "markdown",
   "metadata": {},
   "source": [
    "### Exercise 8  \n",
    "The (so-called) Birthday Paradox:\n",
    "1. Write a function called `has_duplicates` that takes a list and returns `True` if there is any element that appears more than once. It should not modify the original list.\n",
    "2. If there are 23 students in your class, what are the chances that two of you have the same birthday? You can estimate this probability by generating random samples of 23 birthdays and checking for matches. Hint: you can generate random birthdays with the randint function in the [random module](https://docs.python.org/2/library/random.html).\n",
    "\n",
    "You can read about this problem at http://en.wikipedia.org/wiki/Birthday_paradox, and you can download Allen's solution from http://thinkpython.com/code/birthday.py."
   ]
  },
  {
   "cell_type": "code",
   "execution_count": 9,
   "metadata": {
    "collapsed": false,
    "scrolled": true
   },
   "outputs": [
    {
     "name": "stdout",
     "output_type": "stream",
     "text": [
      "488\n"
     ]
    }
   ],
   "source": [
    "def has_duplicates(list):\n",
    "    i = 0 \n",
    "    while i+1 < len(list):\n",
    "        if list[i] in list[i+1:]:\n",
    "            return True\n",
    "        i+=1\n",
    "    \n",
    "from random import *\n",
    "\n",
    "def random_birthdays(number_of_students, samples):\n",
    "    \n",
    "    count = 0\n",
    "    for i in range(0,samples):\n",
    "        birthdays = []\n",
    "        for i in range(number_of_students):\n",
    "            random_birthdays = randint(1, 365)\n",
    "            birthdays.append(random_birthdays)\n",
    "        \n",
    "\n",
    "        if has_duplicates(birthdays):\n",
    "            count += 1\n",
    "    return count\n",
    "\n",
    "print random_birthdays(23,1000)"
   ]
  },
  {
   "cell_type": "markdown",
   "metadata": {},
   "source": [
    "### Challenge: Exercise 11 (optional)\n",
    "\n",
    "You should read [Chapter 9.1](http://www.greenteapress.com/thinkpython/html/thinkpython010.html) and do Exercise 1 first.\n",
    "\n",
    "To check whether a word is in the word list, you could use the `in` operator, but it would be relatively slow because it searches through the words in order (try it).\n",
    "\n",
    "Because the words are in alphabetical order, we can speed things up with a bisection search (also known as binary search), which is similar to what you do when you look a word up in the dictionary. You start in the middle and check to see whether the word you are looking for comes before the word in the middle of the list. If so, then you search the first half of the list the same way. Otherwise you search the second half.\n",
    "\n",
    "Either way, you cut the remaining search space in half. If the word list has 113,809 words, it will take about 17 steps to find the word or conclude that it’s not there.\n",
    "\n",
    "Write a function called `bisect` that takes a sorted list and a target value and returns the index of the value in the list, if it’s there, or `None` if it’s not.\n",
    "\n",
    "Or you could read the documentation of the `bisect` module and use that! Solution: http://thinkpython.com/code/inlist.py."
   ]
  },
  {
   "cell_type": "code",
   "execution_count": null,
   "metadata": {
    "collapsed": true
   },
   "outputs": [],
   "source": []
  },
  {
   "cell_type": "markdown",
   "metadata": {},
   "source": [
    "## Reading Journal feedback\n",
    "\n",
    "Have any comments on this Reading Journal? Feel free to leave them below and we'll read them when you submit your journal entry. This could include suggestions to improve the exercises, topics you'd like to see covered in class next time, or other feedback.\n",
    "\n",
    "If you have Python questions or run into problems while completing the reading, you should post them to Piazza instead so you can get a quick response before your journal is submitted."
   ]
  },
  {
   "cell_type": "markdown",
   "metadata": {},
   "source": [
    " "
   ]
  }
 ],
 "metadata": {
  "kernelspec": {
   "display_name": "Python 2",
   "language": "python",
   "name": "python2"
  },
  "language_info": {
   "codemirror_mode": {
    "name": "ipython",
    "version": 2
   },
   "file_extension": ".py",
   "mimetype": "text/x-python",
   "name": "python",
   "nbconvert_exporter": "python",
   "pygments_lexer": "ipython2",
   "version": "2.7.6"
  }
 },
 "nbformat": 4,
 "nbformat_minor": 0
}
